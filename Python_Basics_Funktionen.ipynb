{
 "cells": [
  {
   "cell_type": "code",
   "execution_count": 3,
   "metadata": {},
   "outputs": [],
   "source": [
    "# Funktionen\n",
    "def show_coordinates(x, y, z):\n",
    "            print(f\"coordinates are: {x}, {y}, {z}\")"
   ]
  },
  {
   "cell_type": "code",
   "execution_count": 5,
   "metadata": {},
   "outputs": [
    {
     "name": "stdout",
     "output_type": "stream",
     "text": [
      "coordinates are: 1, 56, 5\n"
     ]
    }
   ],
   "source": [
    "show_coordinates(1, 56, 5)"
   ]
  },
  {
   "cell_type": "code",
   "execution_count": 7,
   "metadata": {},
   "outputs": [
    {
     "name": "stdout",
     "output_type": "stream",
     "text": [
      "coordinates are: 1, 6, 65\n"
     ]
    }
   ],
   "source": [
    "show_coordinates(1, z = 65, y = 6)"
   ]
  },
  {
   "cell_type": "code",
   "execution_count": 9,
   "metadata": {},
   "outputs": [
    {
     "name": "stdout",
     "output_type": "stream",
     "text": [
      "coordinates are: 5, 6, 7\n"
     ]
    }
   ],
   "source": [
    "a = 5\n",
    "b = 6\n",
    "c = 7\n",
    "show_coordinates(x=a, y=b, z=c)"
   ]
  },
  {
   "cell_type": "code",
   "execution_count": 11,
   "metadata": {},
   "outputs": [],
   "source": [
    "def show_coordinates(x=1, y=0, z=0):\n",
    "            print(f\"coordinates are: {x}, {y}, {z}\")    "
   ]
  },
  {
   "cell_type": "code",
   "execution_count": 13,
   "metadata": {},
   "outputs": [
    {
     "name": "stdout",
     "output_type": "stream",
     "text": [
      "coordinates are: 1, 0, 4\n"
     ]
    }
   ],
   "source": [
    "show_coordinates(z=4)"
   ]
  },
  {
   "cell_type": "code",
   "execution_count": 15,
   "metadata": {},
   "outputs": [],
   "source": [
    "def min_max(a):\n",
    "    minimum = min(a)\n",
    "    maximum = max(a)\n",
    "    return minimum, maximum"
   ]
  },
  {
   "cell_type": "code",
   "execution_count": 18,
   "metadata": {},
   "outputs": [
    {
     "data": {
      "text/plain": [
       "(-1, 9)"
      ]
     },
     "execution_count": 18,
     "metadata": {},
     "output_type": "execute_result"
    }
   ],
   "source": [
    "a = [3, 6, 9, -1]\n",
    "min_max(a)"
   ]
  },
  {
   "cell_type": "code",
   "execution_count": 20,
   "metadata": {},
   "outputs": [
    {
     "name": "stdout",
     "output_type": "stream",
     "text": [
      "-1 9\n"
     ]
    }
   ],
   "source": [
    "q, w = min_max(a)\n",
    "print(q, w)"
   ]
  },
  {
   "cell_type": "code",
   "execution_count": 24,
   "metadata": {},
   "outputs": [
    {
     "name": "stdout",
     "output_type": "stream",
     "text": [
      "3\n",
      "6\n",
      "9\n",
      "-1\n"
     ]
    }
   ],
   "source": [
    "q,w,e,r = a\n",
    "print(q)\n",
    "print(w)\n",
    "print(e)\n",
    "print(r)"
   ]
  },
  {
   "cell_type": "code",
   "execution_count": 26,
   "metadata": {},
   "outputs": [],
   "source": [
    "def show(method, data):\n",
    "    print(\"searched:\", method(data))"
   ]
  },
  {
   "cell_type": "code",
   "execution_count": 29,
   "metadata": {},
   "outputs": [
    {
     "name": "stdout",
     "output_type": "stream",
     "text": [
      "searched: -1\n",
      "searched: 9\n",
      "searched: (-1, 9)\n"
     ]
    }
   ],
   "source": [
    "show(min, a)\n",
    "show(max, a)\n",
    "show(min_max, a)"
   ]
  }
 ],
 "metadata": {
  "kernelspec": {
   "display_name": "Python 3",
   "language": "python",
   "name": "python3"
  },
  "language_info": {
   "codemirror_mode": {
    "name": "ipython",
    "version": 3
   },
   "file_extension": ".py",
   "mimetype": "text/x-python",
   "name": "python",
   "nbconvert_exporter": "python",
   "pygments_lexer": "ipython3",
   "version": "3.7.6"
  }
 },
 "nbformat": 4,
 "nbformat_minor": 4
}
