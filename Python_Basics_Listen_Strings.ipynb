{
 "cells": [
  {
   "cell_type": "code",
   "execution_count": 3,
   "metadata": {},
   "outputs": [],
   "source": [
    "## Kontrollstrukturen"
   ]
  },
  {
   "cell_type": "code",
   "execution_count": 1,
   "metadata": {},
   "outputs": [
    {
     "data": {
      "text/plain": [
       "16"
      ]
     },
     "execution_count": 1,
     "metadata": {},
     "output_type": "execute_result"
    }
   ],
   "source": [
    "m = \"Machine Learning\"\n",
    "len(m)"
   ]
  },
  {
   "cell_type": "code",
   "execution_count": 2,
   "metadata": {},
   "outputs": [
    {
     "name": "stdout",
     "output_type": "stream",
     "text": [
      "0 : M\n",
      "1 : a\n",
      "2 : c\n",
      "3 : h\n",
      "4 : i\n",
      "5 : n\n",
      "6 : e\n",
      "7 :  \n",
      "8 : L\n",
      "9 : e\n",
      "10 : a\n",
      "11 : r\n",
      "12 : n\n",
      "13 : i\n",
      "14 : n\n",
      "15 : g\n"
     ]
    }
   ],
   "source": [
    "for i in range(0, 16):\n",
    "    print(i, \":\", m[i])"
   ]
  },
  {
   "cell_type": "code",
   "execution_count": 12,
   "metadata": {},
   "outputs": [
    {
     "name": "stdout",
     "output_type": "stream",
     "text": [
      "8\n"
     ]
    }
   ],
   "source": [
    "# Zählen, wie viel Werte im Bereich 4 <= x < 8 liegen\n",
    "a = [5,1,2,5,7,8,7,6,4,3,3,2,7,4]\n",
    "\n",
    "# meine Lösung:\n",
    "counter = 0\n",
    "for x in a:\n",
    "    if x >= 4 and x < 8:\n",
    "        counter = counter + 1\n",
    "print(count)"
   ]
  },
  {
   "cell_type": "code",
   "execution_count": 11,
   "metadata": {},
   "outputs": [
    {
     "name": "stdout",
     "output_type": "stream",
     "text": [
      "8\n",
      "8\n"
     ]
    }
   ],
   "source": [
    "# Musterlösungen:\n",
    "counter = 0\n",
    "for x in a:\n",
    "    if 4 <= x < 8:\n",
    "        counter = counter + 1\n",
    "print(count)\n",
    "\n",
    "counter = 0\n",
    "b = [4,5,6,7]\n",
    "for x in a:\n",
    "    if x in b:\n",
    "        counter = counter + 1\n",
    "print(count)"
   ]
  },
  {
   "cell_type": "code",
   "execution_count": 17,
   "metadata": {},
   "outputs": [
    {
     "name": "stdout",
     "output_type": "stream",
     "text": [
      "[1, 4, 9, 16, 25, 36, 49, 64, 81]\n"
     ]
    }
   ],
   "source": [
    "squares = []\n",
    "for i in range(1, 10):\n",
    "    squares.append(i**2)\n",
    "print(squares)"
   ]
  },
  {
   "cell_type": "code",
   "execution_count": 1,
   "metadata": {},
   "outputs": [
    {
     "name": "stdout",
     "output_type": "stream",
     "text": [
      "[4, 16, 36, 64]\n",
      "['Hallo', 'Tom']\n"
     ]
    }
   ],
   "source": [
    "# list comprehensions:\n",
    "squares = [i**2 for i in range(1, 10) if i% 2 == 0]\n",
    "print(squares)\n",
    "\n",
    "a = [1, \"Hallo\", 4.5, [1, 2], \"Tom\"]\n",
    "s = [e for e in a if type(e)==type('')]\n",
    "print(s)"
   ]
  },
  {
   "cell_type": "code",
   "execution_count": 24,
   "metadata": {},
   "outputs": [
    {
     "name": "stdout",
     "output_type": "stream",
     "text": [
      "Hallo\n",
      "Hallo\n",
      "Hallo\n"
     ]
    }
   ],
   "source": [
    "for _ in range(0, 3):\n",
    "    print(\"Hallo\")"
   ]
  },
  {
   "cell_type": "code",
   "execution_count": 3,
   "metadata": {},
   "outputs": [
    {
     "name": "stdout",
     "output_type": "stream",
     "text": [
      "Jon Doe\n",
      "Jane Jones\n",
      "Tom Smith\n"
     ]
    }
   ],
   "source": [
    "forename = [\"Jon\", \"Jane\", \"Tom\"]\n",
    "surename = [\"Doe\", \"Jones\", \"Smith\"]\n",
    "for f,s in zip(forename, surename):\n",
    "    print(f,s)"
   ]
  },
  {
   "cell_type": "code",
   "execution_count": 4,
   "metadata": {},
   "outputs": [
    {
     "name": "stdout",
     "output_type": "stream",
     "text": [
      "0 Jon\n",
      "1 Jane\n",
      "2 Tom\n"
     ]
    }
   ],
   "source": [
    "# wenn man das Array mit Index durchlaufen möchte\n",
    "for i,e in enumerate(forename):\n",
    "    print(i, e)"
   ]
  },
  {
   "cell_type": "code",
   "execution_count": 32,
   "metadata": {},
   "outputs": [
    {
     "name": "stdout",
     "output_type": "stream",
     "text": [
      "True\n"
     ]
    }
   ],
   "source": [
    "# Palindrome\n",
    "p = \"hannah\"\n",
    "\n",
    "def is_palindrome(s):\n",
    "    return p == p[::-1]\n",
    "\n",
    "print(is_palindrome(p))"
   ]
  }
 ],
 "metadata": {
  "kernelspec": {
   "display_name": "Python 3",
   "language": "python",
   "name": "python3"
  },
  "language_info": {
   "codemirror_mode": {
    "name": "ipython",
    "version": 3
   },
   "file_extension": ".py",
   "mimetype": "text/x-python",
   "name": "python",
   "nbconvert_exporter": "python",
   "pygments_lexer": "ipython3",
   "version": "3.7.6"
  }
 },
 "nbformat": 4,
 "nbformat_minor": 4
}
